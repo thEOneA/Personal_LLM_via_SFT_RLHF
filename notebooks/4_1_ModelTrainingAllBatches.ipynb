{
 "cells": [
  {
   "cell_type": "markdown",
   "metadata": {},
   "source": [
    "## Load the tokenizer"
   ]
  },
  {
   "cell_type": "code",
   "execution_count": 44,
   "metadata": {},
   "outputs": [],
   "source": [
    "import sys\n",
    "sys.path.append('..')"
   ]
  },
  {
   "cell_type": "code",
   "execution_count": 45,
   "metadata": {},
   "outputs": [],
   "source": [
    "from minbpe import BasicTokenizer\n",
    "\n",
    "tokenizer = BasicTokenizer()\n",
    "tokenizer.load(model_file=\"../output/tokenizer/my_tokenizer.model\")\n",
    "\n",
    "\n",
    "def get_vocab_size(tokenizer: BasicTokenizer) -> int:\n",
    "    vocab = tokenizer.vocab\n",
    "    special_tokens = tokenizer.special_tokens\n",
    "\n",
    "    return len(vocab) + len(special_tokens)"
   ]
  },
  {
   "cell_type": "markdown",
   "metadata": {},
   "source": [
    "## Create the model"
   ]
  },
  {
   "cell_type": "code",
   "execution_count": 46,
   "metadata": {},
   "outputs": [
    {
     "data": {
      "text/plain": [
       "<torch._C.Generator at 0x7f1a6c0fa9f0>"
      ]
     },
     "execution_count": 46,
     "metadata": {},
     "output_type": "execute_result"
    }
   ],
   "source": [
    "import torch\n",
    "torch.manual_seed(3647)"
   ]
  },
  {
   "cell_type": "code",
   "execution_count": 47,
   "metadata": {},
   "outputs": [
    {
     "name": "stdout",
     "output_type": "stream",
     "text": [
      "13.795338 M parameters\n"
     ]
    }
   ],
   "source": [
    "from transformer.model import GPTLanguageModel\n",
    "\n",
    "#important\n",
    "block_size = 256\n",
    "n_embd = 512\n",
    "n_head = 8   \n",
    "n_layer = 4\n",
    "dropout = 0.2\n",
    "batch_size = 64\n",
    "vocab_size = get_vocab_size(tokenizer)\n",
    "device = 'cuda' if torch.cuda.is_available() else 'cpu'\n",
    "\n",
    "model = GPTLanguageModel(\n",
    "    vocab_size=vocab_size,\n",
    "    block_size=block_size,\n",
    "    n_embd=n_embd,\n",
    "    n_head=n_head,\n",
    "    n_layer=n_layer,\n",
    "    dropout=dropout,\n",
    "    device=device\n",
    ").to(device)\n",
    "model = torch.compile(model)\n",
    "\n",
    "print(sum(p.numel() for p in model.parameters())/1e6, 'M parameters')"
   ]
  },
  {
   "cell_type": "markdown",
   "metadata": {},
   "source": [
    "## Data preparation"
   ]
  },
  {
   "cell_type": "markdown",
   "metadata": {},
   "source": [
    "### 1. Load the data"
   ]
  },
  {
   "cell_type": "code",
   "execution_count": 48,
   "metadata": {},
   "outputs": [
    {
     "data": {
      "text/plain": [
       "1729461"
      ]
     },
     "execution_count": 48,
     "metadata": {},
     "output_type": "execute_result"
    }
   ],
   "source": [
    "with open(\"../output/combined_text.txt\", \"r\") as f:\n",
    "    text_sequence = f.read()\n",
    "\n",
    "encoded_text_sequence = tokenizer.encode(text_sequence)\n",
    "len(encoded_text_sequence)"
   ]
  },
  {
   "cell_type": "markdown",
   "metadata": {},
   "source": [
    "### 2. Split it into train and test"
   ]
  },
  {
   "cell_type": "code",
   "execution_count": 49,
   "metadata": {},
   "outputs": [],
   "source": [
    "data = torch.tensor(encoded_text_sequence, dtype=torch.long)\n",
    "split_index = int(0.9*len(data))\n",
    "train_data = data[:split_index]\n",
    "val_data = data[split_index:]"
   ]
  },
  {
   "cell_type": "markdown",
   "metadata": {},
   "source": [
    "### 3. Data loader"
   ]
  },
  {
   "cell_type": "code",
   "execution_count": 50,
   "metadata": {},
   "outputs": [],
   "source": [
    "from typing import Tuple\n",
    "from torch.utils.data import Dataset, DataLoader\n",
    "\n",
    "\n",
    "class TextDataset(Dataset):\n",
    "    def __init__(self, data: torch.Tensor, block_size: int) -> None:\n",
    "        self.data = data\n",
    "        self.block_size = block_size\n",
    "\n",
    "    def __len__(self) -> int:\n",
    "        return len(self.data) - self.block_size\n",
    "        \n",
    "\n",
    "    def __getitem__(self, index: int) -> Tuple[torch.Tensor, torch.Tensor]:\n",
    "        x = self.data[index:index + self.block_size]\n",
    "        y = self.data[index + 1:index + self.block_size + 1]\n",
    "        return x, y\n",
    "\n",
    "\n",
    "def get_dataloaders(\n",
    "        train_data: torch.Tensor,\n",
    "        val_data: torch.Tensor,\n",
    "        block_size: int,\n",
    "        batch_size: int,\n",
    "        device: torch.device\n",
    ") -> Tuple[DataLoader, DataLoader]:\n",
    "    train_dataset = TextDataset(train_data.to(device), block_size)\n",
    "    val_dataset = TextDataset(val_data.to(device), block_size)\n",
    "\n",
    "    train_loader = DataLoader(\n",
    "        train_dataset,\n",
    "        batch_size=batch_size,\n",
    "        shuffle=True,\n",
    "    )\n",
    "    val_loader = DataLoader(\n",
    "        val_dataset,\n",
    "        batch_size=batch_size,\n",
    "        shuffle=False,\n",
    "    )\n",
    "\n",
    "    return train_loader, val_loader"
   ]
  },
  {
   "cell_type": "code",
   "execution_count": 51,
   "metadata": {},
   "outputs": [
    {
     "data": {
      "text/plain": [
       "(torch.Size([64, 256]), torch.Size([64, 256]))"
      ]
     },
     "execution_count": 51,
     "metadata": {},
     "output_type": "execute_result"
    }
   ],
   "source": [
    "train_loader, val_loader = get_dataloaders(\n",
    "    train_data=train_data,\n",
    "    val_data=val_data,\n",
    "    block_size=block_size,\n",
    "    batch_size=batch_size,\n",
    "    device=device\n",
    ")\n",
    "x, y = next(iter(train_loader))\n",
    "x.shape, y.shape"
   ]
  },
  {
   "cell_type": "markdown",
   "metadata": {},
   "source": [
    "### 4. Training"
   ]
  },
  {
   "cell_type": "code",
   "execution_count": 52,
   "metadata": {},
   "outputs": [],
   "source": [
    "from typing import Dict\n",
    "\n",
    "\n",
    "@torch.no_grad()\n",
    "def estimate_loss(\n",
    "    model: torch.nn.Module,\n",
    "    train_loader: DataLoader,\n",
    "    val_loader: DataLoader,\n",
    "    eval_iters: int\n",
    ") -> Dict[str, float]:\n",
    "    output = {}\n",
    "    model.eval()\n",
    "\n",
    "    for split, loader in [('train', train_loader), ('val', val_loader)]:\n",
    "        losses = torch.zeros(eval_iters)\n",
    "        for i, (x, y) in enumerate(loader):\n",
    "            if i >= eval_iters:\n",
    "                break\n",
    "            with torch.no_grad():\n",
    "                _, loss = model(x, y)\n",
    "            losses[i] = loss.item()\n",
    "        output[split] = losses.mean().item()\n",
    "\n",
    "    model.train()\n",
    "    return output"
   ]
  },
  {
   "cell_type": "code",
   "execution_count": 53,
   "metadata": {},
   "outputs": [],
   "source": [
    "def save_checkpoint(\n",
    "    model: GPTLanguageModel,\n",
    "    optimizer: torch.optim.Optimizer,\n",
    "    epoch: int,\n",
    "    loss: float,\n",
    "    file_path: str = \"checkpoint.pth\"\n",
    ") -> None:\n",
    "    checkpoint = {\n",
    "        'epoch': epoch,\n",
    "        'model_state_dict': model.state_dict(),\n",
    "        'optimizer_state_dict': optimizer.state_dict(),\n",
    "        'loss': loss\n",
    "    }\n",
    "    torch.save(checkpoint, file_path)"
   ]
  },
  {
   "cell_type": "code",
   "execution_count": 57,
   "metadata": {},
   "outputs": [
    {
     "name": "stdout",
     "output_type": "stream",
     "text": [
      "iteration 0 / step 0: train loss 1.9136, val loss 4.7476\n",
      "iteration 0 / step 100: train loss 1.9121, val loss 4.7563\n",
      "iteration 0 / step 200: train loss 1.9050, val loss 4.7569\n",
      "iteration 0 / step 300: train loss 1.8990, val loss 4.7763\n",
      "iteration 0 / step 400: train loss 1.9055, val loss 4.7581\n",
      "iteration 0 / step 500: train loss 1.9041, val loss 4.7600\n",
      "iteration 0 / step 600: train loss 1.8970, val loss 4.7680\n",
      "iteration 0 / step 700: train loss 1.8870, val loss 4.7817\n",
      "iteration 0 / step 800: train loss 1.8848, val loss 4.7784\n",
      "iteration 0 / step 900: train loss 1.8816, val loss 4.8008\n",
      "iteration 0 / step 1000: train loss 1.8767, val loss 4.8099\n",
      "iteration 0 / step 1100: train loss 1.8749, val loss 4.8032\n",
      "iteration 0 / step 1200: train loss 1.8707, val loss 4.8018\n",
      "iteration 0 / step 1300: train loss 1.8639, val loss 4.8190\n",
      "iteration 0 / step 1400: train loss 1.8645, val loss 4.8025\n",
      "iteration 0 / step 1500: train loss 1.8643, val loss 4.7975\n",
      "iteration 0 / step 1600: train loss 1.8559, val loss 4.8043\n",
      "iteration 0 / step 1700: train loss 1.8574, val loss 4.8138\n",
      "iteration 0 / step 1800: train loss 1.8508, val loss 4.8096\n",
      "iteration 0 / step 1900: train loss 1.8495, val loss 4.8067\n",
      "iteration 0 / step 2000: train loss 1.8480, val loss 4.8175\n",
      "iteration 0 / step 2100: train loss 1.8442, val loss 4.8151\n",
      "iteration 0 / step 2200: train loss 1.8362, val loss 4.8410\n",
      "iteration 0 / step 2300: train loss 1.8352, val loss 4.8412\n",
      "iteration 0 / step 2400: train loss 1.8346, val loss 4.8362\n",
      "iteration 0 / step 2500: train loss 1.8332, val loss 4.8408\n",
      "iteration 0 / step 2600: train loss 1.8337, val loss 4.8149\n",
      "iteration 0 / step 2700: train loss 1.8255, val loss 4.8308\n",
      "iteration 0 / step 2800: train loss 1.8202, val loss 4.8531\n",
      "iteration 0 / step 2900: train loss 1.8187, val loss 4.8516\n",
      "iteration 0 / step 3000: train loss 1.8139, val loss 4.8495\n",
      "iteration 0 / step 3100: train loss 1.8126, val loss 4.8686\n",
      "iteration 0 / step 3200: train loss 1.8155, val loss 4.8600\n",
      "iteration 0 / step 3300: train loss 1.8123, val loss 4.8507\n",
      "iteration 0 / step 3400: train loss 1.8014, val loss 4.8755\n",
      "iteration 0 / step 3500: train loss 1.8053, val loss 4.8624\n",
      "iteration 0 / step 3600: train loss 1.7985, val loss 4.8742\n",
      "iteration 0 / step 3700: train loss 1.8001, val loss 4.8628\n",
      "iteration 0 / step 3800: train loss 1.7970, val loss 4.8708\n",
      "iteration 0 / step 3900: train loss 1.7885, val loss 4.8884\n",
      "iteration 0 / step 4000: train loss 1.7920, val loss 4.8904\n",
      "iteration 0 / step 4100: train loss 1.7867, val loss 4.8843\n",
      "iteration 0 / step 4200: train loss 1.7801, val loss 4.9003\n",
      "iteration 0 / step 4300: train loss 1.7825, val loss 4.8919\n",
      "iteration 0 / step 4400: train loss 1.7825, val loss 4.8819\n",
      "iteration 0 / step 4500: train loss 1.7743, val loss 4.8983\n",
      "iteration 0 / step 4600: train loss 1.7717, val loss 4.9062\n",
      "iteration 0 / step 4700: train loss 1.7695, val loss 4.9119\n",
      "iteration 0 / step 4800: train loss 1.7688, val loss 4.8994\n",
      "iteration 0 / step 4900: train loss 1.7635, val loss 4.9078\n",
      "iteration 0 / step 5000: train loss 1.7631, val loss 4.9094\n",
      "iteration 0 / step 5100: train loss 1.7627, val loss 4.8963\n",
      "iteration 0 / step 5200: train loss 1.7556, val loss 4.9215\n",
      "iteration 0 / step 5300: train loss 1.7593, val loss 4.8981\n",
      "iteration 0 / step 5400: train loss 1.7579, val loss 4.9039\n",
      "iteration 0 / step 5500: train loss 1.7467, val loss 4.9315\n",
      "iteration 0 / step 5600: train loss 1.7458, val loss 4.9313\n",
      "iteration 0 / step 5700: train loss 1.7404, val loss 4.9449\n",
      "iteration 0 / step 5800: train loss 1.7457, val loss 4.9174\n",
      "iteration 0 / step 5900: train loss 1.7410, val loss 4.9311\n",
      "iteration 0 / step 6000: train loss 1.7348, val loss 4.9429\n",
      "iteration 0 / step 6100: train loss 1.7390, val loss 4.9242\n",
      "iteration 0 / step 6200: train loss 1.7335, val loss 4.9310\n",
      "iteration 0 / step 6300: train loss 1.7306, val loss 4.9451\n",
      "iteration 0 / step 6400: train loss 1.7239, val loss 4.9556\n",
      "iteration 0 / step 6500: train loss 1.7280, val loss 4.9395\n",
      "iteration 0 / step 6600: train loss 1.7221, val loss 4.9617\n",
      "iteration 0 / step 6700: train loss 1.7192, val loss 4.9463\n",
      "iteration 0 / step 6800: train loss 1.7237, val loss 4.9464\n",
      "iteration 0 / step 6900: train loss 1.7151, val loss 4.9573\n",
      "iteration 0 / step 7000: train loss 1.7154, val loss 4.9534\n",
      "iteration 0 / step 7100: train loss 1.7069, val loss 4.9776\n",
      "iteration 0 / step 7200: train loss 1.7094, val loss 4.9533\n",
      "iteration 0 / step 7300: train loss 1.7105, val loss 4.9550\n",
      "iteration 0 / step 7400: train loss 1.7086, val loss 4.9542\n",
      "iteration 0 / step 7500: train loss 1.6985, val loss 4.9894\n",
      "iteration 0 / step 7600: train loss 1.6996, val loss 4.9777\n",
      "iteration 0 / step 7700: train loss 1.6942, val loss 4.9927\n",
      "iteration 0 / step 7800: train loss 1.6923, val loss 4.9849\n",
      "iteration 0 / step 7900: train loss 1.6894, val loss 4.9967\n",
      "iteration 0 / step 8000: train loss 1.6838, val loss 4.9897\n",
      "iteration 0 / step 8100: train loss 1.6946, val loss 4.9771\n",
      "iteration 0 / step 8200: train loss 1.6861, val loss 4.9923\n",
      "iteration 0 / step 8300: train loss 1.6812, val loss 5.0043\n",
      "iteration 0 / step 8400: train loss 1.6788, val loss 4.9954\n",
      "iteration 0 / step 8500: train loss 1.6795, val loss 5.0076\n",
      "iteration 0 / step 8600: train loss 1.6757, val loss 5.0159\n",
      "iteration 0 / step 8700: train loss 1.6746, val loss 4.9954\n",
      "iteration 0 / step 8800: train loss 1.6735, val loss 5.0138\n",
      "iteration 0 / step 8900: train loss 1.6810, val loss 5.0188\n",
      "iteration 0 / step 9000: train loss 1.6686, val loss 5.0244\n",
      "iteration 0 / step 9100: train loss 1.6669, val loss 5.0116\n",
      "iteration 0 / step 9200: train loss 1.6650, val loss 5.0228\n",
      "iteration 0 / step 9300: train loss 1.6621, val loss 5.0304\n",
      "iteration 0 / step 9400: train loss 1.6585, val loss 5.0221\n",
      "iteration 0 / step 9500: train loss 1.6613, val loss 5.0130\n",
      "iteration 0 / step 9600: train loss 1.6525, val loss 5.0333\n",
      "iteration 0 / step 9700: train loss 1.6499, val loss 5.0297\n",
      "iteration 0 / step 9800: train loss 1.6498, val loss 5.0400\n",
      "iteration 0 / step 9900: train loss 1.6499, val loss 5.0340\n",
      "iteration 0 / step 10000: train loss 1.6464, val loss 5.0525\n",
      "iteration 0 / step 10100: train loss 1.6452, val loss 5.0434\n",
      "iteration 0 / step 10200: train loss 1.6393, val loss 5.0598\n",
      "iteration 0 / step 10300: train loss 1.6382, val loss 5.0430\n",
      "iteration 0 / step 10400: train loss 1.6438, val loss 5.0279\n",
      "iteration 0 / step 10500: train loss 1.6325, val loss 5.0745\n",
      "iteration 0 / step 10600: train loss 1.6395, val loss 5.0469\n",
      "iteration 0 / step 10700: train loss 1.6382, val loss 5.0535\n",
      "iteration 0 / step 10800: train loss 1.6338, val loss 5.0540\n",
      "iteration 0 / step 10900: train loss 1.6281, val loss 5.0540\n",
      "iteration 0 / step 11000: train loss 1.6269, val loss 5.0652\n",
      "iteration 0 / step 11100: train loss 1.6248, val loss 5.0702\n",
      "iteration 0 / step 11200: train loss 1.6221, val loss 5.0608\n",
      "iteration 0 / step 11300: train loss 1.6204, val loss 5.0640\n",
      "iteration 0 / step 11400: train loss 1.6161, val loss 5.0778\n",
      "iteration 0 / step 11500: train loss 1.6168, val loss 5.0782\n",
      "iteration 0 / step 11600: train loss 1.6165, val loss 5.0812\n",
      "iteration 0 / step 11700: train loss 1.6083, val loss 5.1067\n",
      "iteration 0 / step 11800: train loss 1.6102, val loss 5.0933\n",
      "iteration 0 / step 11900: train loss 1.6068, val loss 5.1019\n",
      "iteration 0 / step 12000: train loss 1.6088, val loss 5.0967\n",
      "iteration 0 / step 12100: train loss 1.5990, val loss 5.1050\n",
      "iteration 0 / step 12200: train loss 1.5987, val loss 5.1202\n",
      "iteration 0 / step 12300: train loss 1.5996, val loss 5.1104\n",
      "iteration 0 / step 12400: train loss 1.5999, val loss 5.1061\n",
      "iteration 0 / step 12500: train loss 1.6042, val loss 5.0871\n",
      "iteration 0 / step 12600: train loss 1.5908, val loss 5.1090\n",
      "iteration 0 / step 12700: train loss 1.5905, val loss 5.0924\n",
      "iteration 0 / step 12800: train loss 1.5844, val loss 5.1159\n",
      "iteration 0 / step 12900: train loss 1.5874, val loss 5.1067\n",
      "iteration 0 / step 13000: train loss 1.5869, val loss 5.1120\n",
      "iteration 0 / step 13100: train loss 1.5905, val loss 5.0986\n",
      "iteration 0 / step 13200: train loss 1.5750, val loss 5.1499\n",
      "iteration 0 / step 13300: train loss 1.5827, val loss 5.1200\n",
      "iteration 0 / step 13400: train loss 1.5755, val loss 5.1269\n",
      "iteration 0 / step 13500: train loss 1.5823, val loss 5.1053\n",
      "iteration 0 / step 13600: train loss 1.5751, val loss 5.1318\n",
      "iteration 0 / step 13700: train loss 1.5722, val loss 5.1407\n",
      "iteration 0 / step 13800: train loss 1.5709, val loss 5.1451\n",
      "iteration 0 / step 13900: train loss 1.5688, val loss 5.1514\n",
      "iteration 0 / step 14000: train loss 1.5672, val loss 5.1398\n",
      "iteration 0 / step 14100: train loss 1.5659, val loss 5.1582\n",
      "iteration 0 / step 14200: train loss 1.5614, val loss 5.1569\n",
      "iteration 0 / step 14300: train loss 1.5662, val loss 5.1489\n",
      "iteration 0 / step 14400: train loss 1.5562, val loss 5.1560\n",
      "iteration 0 / step 14500: train loss 1.5616, val loss 5.1513\n",
      "iteration 0 / step 14600: train loss 1.5614, val loss 5.1490\n",
      "iteration 0 / step 14700: train loss 1.5568, val loss 5.1580\n",
      "iteration 0 / step 14800: train loss 1.5501, val loss 5.1624\n",
      "iteration 0 / step 14900: train loss 1.5520, val loss 5.1559\n",
      "iteration 0 / step 15000: train loss 1.5523, val loss 5.1432\n",
      "iteration 0 / step 15100: train loss 1.5504, val loss 5.1521\n",
      "iteration 0 / step 15200: train loss 1.5472, val loss 5.1853\n",
      "iteration 0 / step 15300: train loss 1.5455, val loss 5.1698\n",
      "iteration 0 / step 15400: train loss 1.5439, val loss 5.1691\n",
      "iteration 0 / step 15500: train loss 1.5392, val loss 5.1924\n",
      "iteration 0 / step 15600: train loss 1.5392, val loss 5.1711\n",
      "iteration 0 / step 15700: train loss 1.5360, val loss 5.1927\n",
      "iteration 0 / step 15800: train loss 1.5357, val loss 5.1840\n",
      "iteration 0 / step 15900: train loss 1.5338, val loss 5.1849\n",
      "iteration 0 / step 16000: train loss 1.5350, val loss 5.1727\n",
      "iteration 0 / step 16100: train loss 1.5289, val loss 5.1891\n",
      "iteration 0 / step 16200: train loss 1.5289, val loss 5.1879\n",
      "iteration 0 / step 16300: train loss 1.5291, val loss 5.1973\n",
      "iteration 0 / step 16400: train loss 1.5282, val loss 5.2005\n",
      "iteration 0 / step 16500: train loss 1.5196, val loss 5.2134\n",
      "iteration 0 / step 16600: train loss 1.5245, val loss 5.1959\n",
      "iteration 0 / step 16700: train loss 1.5233, val loss 5.1991\n",
      "iteration 0 / step 16800: train loss 1.5184, val loss 5.2102\n",
      "iteration 0 / step 16900: train loss 1.5223, val loss 5.1884\n",
      "iteration 0 / step 17000: train loss 1.5131, val loss 5.2096\n",
      "iteration 0 / step 17100: train loss 1.5126, val loss 5.2144\n",
      "iteration 0 / step 17200: train loss 1.5118, val loss 5.2017\n",
      "iteration 0 / step 17300: train loss 1.5144, val loss 5.2008\n",
      "iteration 0 / step 17400: train loss 1.5074, val loss 5.2446\n",
      "iteration 0 / step 17500: train loss 1.5058, val loss 5.2226\n",
      "iteration 0 / step 17600: train loss 1.5063, val loss 5.2249\n",
      "iteration 0 / step 17700: train loss 1.5048, val loss 5.2183\n",
      "iteration 0 / step 17800: train loss 1.4997, val loss 5.2404\n",
      "iteration 0 / step 17900: train loss 1.5012, val loss 5.2257\n",
      "iteration 0 / step 18000: train loss 1.5038, val loss 5.2259\n",
      "iteration 0 / step 18100: train loss 1.4959, val loss 5.2659\n",
      "iteration 0 / step 18200: train loss 1.4953, val loss 5.2516\n",
      "iteration 0 / step 18300: train loss 1.4951, val loss 5.2366\n",
      "iteration 0 / step 18400: train loss 1.4928, val loss 5.2530\n",
      "iteration 0 / step 18500: train loss 1.4920, val loss 5.2442\n",
      "iteration 0 / step 18600: train loss 1.4881, val loss 5.2507\n",
      "iteration 0 / step 18700: train loss 1.4917, val loss 5.2269\n",
      "iteration 0 / step 18800: train loss 1.4864, val loss 5.2808\n",
      "iteration 0 / step 18900: train loss 1.4838, val loss 5.2549\n",
      "iteration 0 / step 19000: train loss 1.4873, val loss 5.2195\n",
      "iteration 0 / step 19100: train loss 1.4796, val loss 5.2574\n",
      "iteration 0 / step 19200: train loss 1.4793, val loss 5.2603\n",
      "iteration 0 / step 19300: train loss 1.4778, val loss 5.2559\n",
      "iteration 0 / step 19400: train loss 1.4781, val loss 5.2578\n",
      "iteration 0 / step 19500: train loss 1.4792, val loss 5.2680\n",
      "iteration 0 / step 19600: train loss 1.4779, val loss 5.2672\n",
      "iteration 0 / step 19700: train loss 1.4724, val loss 5.2768\n",
      "iteration 0 / step 19800: train loss 1.4664, val loss 5.2936\n",
      "iteration 0 / step 19900: train loss 1.4728, val loss 5.2526\n",
      "iteration 0 / step 20000: train loss 1.4710, val loss 5.2552\n",
      "iteration 0 / step 20100: train loss 1.4692, val loss 5.2754\n",
      "iteration 0 / step 20200: train loss 1.4710, val loss 5.2627\n",
      "iteration 0 / step 20300: train loss 1.4644, val loss 5.2875\n",
      "iteration 0 / step 20400: train loss 1.4657, val loss 5.2843\n",
      "iteration 0 / step 20500: train loss 1.4643, val loss 5.2724\n",
      "iteration 0 / step 20600: train loss 1.4642, val loss 5.2812\n",
      "iteration 0 / step 20700: train loss 1.4627, val loss 5.2717\n",
      "iteration 0 / step 20800: train loss 1.4554, val loss 5.3001\n",
      "iteration 0 / step 20900: train loss 1.4561, val loss 5.2944\n",
      "iteration 0 / step 21000: train loss 1.4530, val loss 5.3092\n",
      "iteration 0 / step 21100: train loss 1.4526, val loss 5.3092\n",
      "iteration 0 / step 21200: train loss 1.4565, val loss 5.2769\n",
      "iteration 0 / step 21300: train loss 1.4476, val loss 5.2910\n",
      "iteration 0 / step 21400: train loss 1.4483, val loss 5.2913\n",
      "iteration 0 / step 21500: train loss 1.4447, val loss 5.3153\n",
      "iteration 0 / step 21600: train loss 1.4456, val loss 5.3022\n",
      "iteration 0 / step 21700: train loss 1.4456, val loss 5.3040\n",
      "iteration 0 / step 21800: train loss 1.4444, val loss 5.3148\n",
      "iteration 0 / step 21900: train loss 1.4418, val loss 5.3209\n",
      "iteration 0 / step 22000: train loss 1.4414, val loss 5.3242\n",
      "iteration 0 / step 22100: train loss 1.4382, val loss 5.3225\n",
      "iteration 0 / step 22200: train loss 1.4367, val loss 5.3206\n",
      "iteration 0 / step 22300: train loss 1.4348, val loss 5.3248\n",
      "iteration 0 / step 22400: train loss 1.4349, val loss 5.3267\n",
      "iteration 0 / step 22500: train loss 1.4292, val loss 5.3431\n",
      "iteration 0 / step 22600: train loss 1.4328, val loss 5.3373\n",
      "iteration 0 / step 22700: train loss 1.4290, val loss 5.3477\n",
      "iteration 0 / step 22800: train loss 1.4269, val loss 5.3477\n",
      "iteration 0 / step 22900: train loss 1.4283, val loss 5.3388\n",
      "iteration 0 / step 23000: train loss 1.4287, val loss 5.3495\n",
      "iteration 0 / step 23100: train loss 1.4234, val loss 5.3516\n",
      "iteration 0 / step 23200: train loss 1.4233, val loss 5.3375\n",
      "iteration 0 / step 23300: train loss 1.4233, val loss 5.3412\n",
      "iteration 0 / step 23400: train loss 1.4205, val loss 5.3600\n",
      "iteration 0 / step 23500: train loss 1.4173, val loss 5.3569\n",
      "iteration 0 / step 23600: train loss 1.4162, val loss 5.3769\n",
      "iteration 0 / step 23700: train loss 1.4175, val loss 5.3520\n",
      "iteration 0 / step 23800: train loss 1.4174, val loss 5.3658\n",
      "iteration 0 / step 23900: train loss 1.4123, val loss 5.3768\n",
      "iteration 0 / step 24000: train loss 1.4134, val loss 5.3767\n",
      "iteration 0 / step 24100: train loss 1.4092, val loss 5.3677\n",
      "iteration 0 / step 24200: train loss 1.4082, val loss 5.3740\n",
      "iteration 0 / step 24300: train loss 1.4096, val loss 5.3544\n",
      "iteration 0 / step 24316: train loss 1.4109, val loss 5.3494\n"
     ]
    }
   ],
   "source": [
    "max_iters = 1\n",
    "eval_interval = 100\n",
    "eval_iters = 200\n",
    "learning_rate = 3e-4\n",
    "\n",
    "optimizer = torch.optim.AdamW(model.parameters(), lr=learning_rate)\n",
    "train_loader, val_loader = get_dataloaders(\n",
    "    train_data=train_data,\n",
    "    val_data=val_data,\n",
    "    block_size=block_size,\n",
    "    batch_size=batch_size,\n",
    "    device=device\n",
    ")\n",
    "\n",
    "train_losses = []\n",
    "val_losses = []\n",
    "\n",
    "for iteration in range(max_iters):\n",
    "    for batch_idx, (x_batch, y_batch) in enumerate(train_loader):\n",
    "        # Evaluation\n",
    "        if batch_idx % eval_interval == 0 or batch_idx == len(train_loader) - 1:\n",
    "            losses = estimate_loss(\n",
    "                model=model,\n",
    "                train_loader=train_loader,\n",
    "                val_loader=val_loader,\n",
    "                eval_iters=min(eval_iters, len(val_loader))\n",
    "            )\n",
    "            train_losses.append(losses['train'])\n",
    "            val_losses.append(losses['val'])\n",
    "\n",
    "            print(\n",
    "                f\"iteration {iteration} / step {batch_idx}: \"\n",
    "                f\"train loss {losses['train']:.4f}, \"\n",
    "                f\"val loss {losses['val']:.4f}\"\n",
    "            )\n",
    "\n",
    "        # Training step\n",
    "        logits, loss = model(x_batch, y_batch)\n",
    "        optimizer.zero_grad(set_to_none=True)\n",
    "        loss.backward()\n",
    "        optimizer.step()\n",
    "\n",
    "    # Save checkpoint\n",
    "    save_checkpoint(\n",
    "        model=model,\n",
    "        optimizer=optimizer,\n",
    "        epoch=iteration,\n",
    "        loss=loss.item(),\n",
    "        file_path=f\"../output/pre_training/run_1/checkpoint_{iteration}.pth\"\n",
    "    )"
   ]
  },
  {
   "cell_type": "code",
   "execution_count": 58,
   "metadata": {},
   "outputs": [
    {
     "data": {
      "image/png": "[encoded data removed]",
      "text/plain": [
       "<Figure size 1000x500 with 1 Axes>"
      ]
     },
     "metadata": {},
     "output_type": "display_data"
    }
   ],
   "source": [
    "import matplotlib.pyplot as plt\n",
    "\n",
    "plt.figure(figsize=(10, 5))\n",
    "plt.plot(train_losses, label=\"Train Loss\", marker='o')\n",
    "plt.plot(val_losses, label=\"Validation Loss\", marker='o')\n",
    "plt.xlabel(\"Evaluation Step\")\n",
    "plt.ylabel(\"Loss\")\n",
    "plt.title(\"Training and Validation Loss Over Time\")\n",
    "plt.legend()\n",
    "plt.grid()\n",
    "plt.show()"
   ]
  },
  {
   "cell_type": "code",
   "execution_count": 60,
   "metadata": {},
   "outputs": [
    {
     "name": "stdout",
     "output_type": "stream",
     "text": [
      "what did you do today?Every time I travel, I get closer to turning into Russell Brand 💀 I'm not surprised. Just disappointed. Deeply. Your liver must be screaming 🫠 Bro this Brazilian girl said she liked my accent then stole my vape 😭 😂 Stop catching flights and start catching therapy You're like if chaos became sentient Stop catching flights and start catching therapy fr You ever just wake up and think 'damn I hope I didn’t propose last night' 👀 No way u did that again 💀 lol U need professional help bro ngl I'm gonna try living with a girl for a week, what's the worst that could happen? fr No way u did that again 💀 Bro this Brazilian girl said she liked my accent then stole my vape 😭 ngl One day you'll text me from an ER in Mexico U need professional help bro 🫠 U need professional help bro 👀 U need professional help bro 👀 You ever just wake up and think 'damn I hope I didn’t propose last night' You ever just wake up and think 'damn I hope I didn’t propose last night' lol I miss clubbing in Manila. Zero rules. Zero sanity. You're like if chaos became sentient fr That's not romantic bro, that's psychotic 💀 I swear last night I almost ended up in a Thai jail 😂 😭 I bought condoms and forgot them in the hotel lobby 💀 fr I'm gonna try living with a girl for a week, what's the worst that could happen? 😂 I'm not surprised. Just disappointed. Deeply. 👀 Your liver must be screaming lol I can't tell if you're living the dream or running from the cops 👀 I'm not surprised. Just disappointed. Deeply. My new rule: no tequila on weekdays. I'm serious this time Your liver must be screaming fr I can't tell if you're living the dream or running from the cops lol You're like if chaos became sentient 😭 You ever just wake up and think 'damn I hope I didn’t propose last night' I'm not surprised. Just disappointed. Deeply. 👀 Your liver must be screaming 🔥 I'm not surprised. Just disappointed. Deeply. 💀 You ever just wake up and think 'damn I hope I didn’t propose last night' I'm gonna try living with a girl for a week, what's the worst that could happen? 🫠 I swear last night I almost ended up in a Thai jail 😂 😂 One day you'll text me from an ER in Mexico ngl That's not romantic bro, that's psychotic That's not romantic bro, that's psychotic No way u did that again 💀 I miss clubbing in Manila. Zero rules. Zero sanity. ngl I swear last night I almost ended up in a Thai jail 😂 🔥 My new rule: no tequila on weekdays. I'm serious this time Some random dude called me papi and gave me a mango. What is my life? ngl One day you'll text me from an ER in Mexico One day you'll text me from an ER in Mexico 😭 That's not romantic bro, that's psychotic 🫠 Bro this Brazilian girl said she liked my accent then stole my vape 😭 One day you'll text me from an ER in Mexico Booked a massage, got a marriage proposal instead 😭 Can you like not destroy your life for once You ever just wake up and think 'damn I hope I didn’t propose last night' 😂 Can you like not destroy your life for once ngl That's not romantic bro, that's psychotic 👀 Some random dude called me papi and gave me a mango. What is my life? 🔥 I can't tell if you're living the dream or running from the cops 😭 My new rule: no tequila on weekdays. I'm serious this time ngl I'm gonna try living with a girl for a week, what's the worst that could happen? lol One day you'll text me from an ER in Mexico 👀 Can you like not destroy your life for once 😂 Your liver must be screaming 😭 U need professional help bro 💀 I bought condoms and forgot them in the hotel lobby 💀 I swear last night I almost ended up in a Thai jail 😂 Bro this Brazilian girl said she liked my accent then stole my vape 😭 💀 My new rule: no tequila on weekdays. I'm serious this time 👀 Every time I travel, I get closer to turning into Russell Brand \n"
     ]
    }
   ],
   "source": [
    "input_tokens = tokenizer.encode(\"what did you do today?\")\n",
    "input_tokens = torch.tensor(\n",
    "    input_tokens, dtype=torch.long).unsqueeze(0).to(device)\n",
    "\n",
    "model.eval()\n",
    "with torch.no_grad():\n",
    "    output = model.generate(input_tokens=input_tokens, max_new_tokens=100)\n",
    "\n",
    "print(tokenizer.decode(output[0].tolist()))"
   ]
  }
 ],
 "metadata": {
  "kernelspec": {
   "display_name": "deep_learning",
   "language": "python",
   "name": "python3"
  },
  "language_info": {
   "codemirror_mode": {
    "name": "ipython",
    "version": 3
   },
   "file_extension": ".py",
   "mimetype": "text/x-python",
   "name": "python",
   "nbconvert_exporter": "python",
   "pygments_lexer": "ipython3",
   "version": "3.10.8"
  }
 },
 "nbformat": 4,
 "nbformat_minor": 2
}
