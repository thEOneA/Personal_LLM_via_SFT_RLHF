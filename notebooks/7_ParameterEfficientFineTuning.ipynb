{
 "cells": [
  {
   "cell_type": "markdown",
   "metadata": {},
   "source": [
    "## Prepare the data"
   ]
  },
  {
   "cell_type": "markdown",
   "metadata": {},
   "source": [
    "### 1. Load the fine-tuning data"
   ]
  },
  {
   "cell_type": "code",
   "execution_count": 2,
   "metadata": {},
   "outputs": [],
   "source": [
    "import json\n",
    "\n",
    "file_path = \"../output/fine_tuning/data/fine_tuning.json\"\n",
    "with open(file_path, \"r\") as file:\n",
    "    data = json.load(file)"
   ]
  },
  {
   "cell_type": "markdown",
   "metadata": {},
   "source": [
    "### 2. Load the tokenizer"
   ]
  },
  {
   "cell_type": "code",
   "execution_count": 3,
   "metadata": {},
   "outputs": [],
   "source": [
    "import sys\n",
    "sys.path.append('..')"
   ]
  },
  {
   "cell_type": "code",
   "execution_count": 4,
   "metadata": {},
   "outputs": [],
   "source": [
    "from minbpe import RegexTokenizer\n",
    "\n",
    "tokenizer = RegexTokenizer()\n",
    "tokenizer.load(model_file=\"../output/tokenizer/my_tokenizer.model\")\n",
    "\n",
    "\n",
    "def get_vocab_size(tokenizer: RegexTokenizer) -> int:\n",
    "    vocab = tokenizer.vocab\n",
    "    special_tokens = tokenizer.special_tokens\n",
    "\n",
    "    return len(vocab) + len(special_tokens)"
   ]
  },
  {
   "cell_type": "markdown",
   "metadata": {},
   "source": [
    "### 3. Tokenize the sequences"
   ]
  },
  {
   "cell_type": "code",
   "execution_count": 5,
   "metadata": {},
   "outputs": [
    {
     "data": {
      "text/plain": [
       "198"
      ]
     },
     "execution_count": 5,
     "metadata": {},
     "output_type": "execute_result"
    }
   ],
   "source": [
    "tokenized_data = []\n",
    "for item in data:\n",
    "    tokenized_item = tokenizer.encode(item, allowed_special=\"all\")\n",
    "    tokenized_data.append(tokenized_item)\n",
    "\n",
    "len(tokenized_data[0])"
   ]
  },
  {
   "cell_type": "markdown",
   "metadata": {},
   "source": [
    "### 4. Split the data"
   ]
  },
  {
   "cell_type": "markdown",
   "metadata": {},
   "source": [
    "We need to be careful when splitting the data. We want to keep the multi-turn conversations complete in each part. So, the training and validation sets should start with a `You` message and end with an `Assistant` message."
   ]
  },
  {
   "cell_type": "code",
   "execution_count": 6,
   "metadata": {},
   "outputs": [
    {
     "name": "stdout",
     "output_type": "stream",
     "text": [
      "Training set: \n",
      "Start message: <|startoftext|>Aymeel Verjee\n",
      "End message: <|startoftext|>Aymeel Verjee\n",
      "\n",
      "Validation set: \n",
      "Start message: <|startoftext|>HelloWorld\n",
      "End message: <|startoftext|>Aymeel Verjee\n"
     ]
    }
   ],
   "source": [
    "initial_split_index = int(0.95 * len(data))\n",
    "\n",
    "# Adjusting the index to ensure that the training set ends with \"Assistant\" message\n",
    "# and that the validation set starts with \"You\" message\n",
    "\n",
    "# Scanning backward to find an Assistant message\n",
    "split_index = initial_split_index\n",
    "while split_index > 0 and not data[split_index-1].startswith('<|startoftext|>Aymeel Verjee'):\n",
    "    split_index -= 1\n",
    "\n",
    "train_data = data[:split_index]\n",
    "val_data = data[split_index:]\n",
    "\n",
    "print(\"Training set: \")\n",
    "print(f\"Start message: {train_data[0].split('<|separator|>')[0]}\")\n",
    "print(f\"End message: {train_data[-1].split('<|separator|>')[0]}\")\n",
    "\n",
    "print(\"\\nValidation set: \")\n",
    "print(f\"Start message: {val_data[0].split('<|separator|>')[0]}\")\n",
    "print(f\"End message: {val_data[-1].split('<|separator|>')[0]}\")"
   ]
  },
  {
   "cell_type": "markdown",
   "metadata": {},
   "source": [
    "We got the index that we should use to split the data. Now, let's split the tokenized data."
   ]
  },
  {
   "cell_type": "code",
   "execution_count": 7,
   "metadata": {},
   "outputs": [],
   "source": [
    "train_data = tokenized_data[:split_index]\n",
    "val_data = tokenized_data[split_index:]"
   ]
  },
  {
   "cell_type": "markdown",
   "metadata": {},
   "source": [
    "Now, we need to combine the `You` and `Assistant` turns into one sequence. We will make sure that the resulting sequence does not exceed the `block_size`."
   ]
  },
  {
   "cell_type": "code",
   "execution_count": 8,
   "metadata": {},
   "outputs": [],
   "source": [
    "block_size = 256\n",
    "\n",
    "\n",
    "def combine_turns(data: list[list[int]], should_trim_long_sequences: bool) -> list[list[int]]:\n",
    "    combined_turns_data = []\n",
    "    for i in range(0, len(data)-1, 2):\n",
    "        you_message = data[i]\n",
    "        assistant_message = data[i+1]\n",
    "        if not you_message or not assistant_message:\n",
    "            continue\n",
    "\n",
    "        final_message = you_message + assistant_message\n",
    "        if len(final_message) > block_size and should_trim_long_sequences:\n",
    "            final_message = final_message[-block_size:]\n",
    "\n",
    "        combined_turns_data.append(final_message)\n",
    "    return combined_turns_data\n",
    "\n",
    "\n",
    "combined_train_data = combine_turns(\n",
    "    data=train_data,\n",
    "    should_trim_long_sequences=True\n",
    ")\n",
    "combined_val_data = combine_turns(\n",
    "    data=val_data,\n",
    "    should_trim_long_sequences=True\n",
    ")"
   ]
  },
  {
   "cell_type": "code",
   "execution_count": 9,
   "metadata": {},
   "outputs": [
    {
     "name": "stdout",
     "output_type": "stream",
     "text": [
      "Train data\n",
      "Length before: 8617\n",
      "Length after: 4308\n",
      "\n",
      "Validation data\n",
      "Length before: 454\n",
      "Length after: 227\n"
     ]
    }
   ],
   "source": [
    "print(\"Train data\")\n",
    "print(f\"Length before: {len(train_data)}\")\n",
    "print(f\"Length after: {len(combined_train_data)}\")\n",
    "\n",
    "print(\"\\nValidation data\")\n",
    "print(f\"Length before: {len(val_data)}\")\n",
    "print(f\"Length after: {len(combined_val_data)}\")"
   ]
  },
  {
   "cell_type": "markdown",
   "metadata": {},
   "source": [
    "Let's convert each sequence of tokens into a tensor."
   ]
  },
  {
   "cell_type": "code",
   "execution_count": 10,
   "metadata": {},
   "outputs": [],
   "source": [
    "# import torch\n",
    "\n",
    "# train_data = torch.tensor(combined_train_data)\n",
    "# val_data = torch.tensor(combined_val_data)"
   ]
  },
  {
   "cell_type": "markdown",
   "metadata": {},
   "source": [
    "Since our token sequences don't all have the same length, we can't turn the data into a tensor all at once. To do that, all sequences need to have the same length.\n",
    "\n",
    "That's why we need to use padding to fix this problem. We can add padding at the start or end of the sequence. Let's add it to the start."
   ]
  },
  {
   "cell_type": "code",
   "execution_count": 11,
   "metadata": {},
   "outputs": [
    {
     "data": {
      "text/plain": [
       "(torch.Size([4308, 256]), torch.Size([227, 256]))"
      ]
     },
     "execution_count": 11,
     "metadata": {},
     "output_type": "execute_result"
    }
   ],
   "source": [
    "import torch\n",
    "torch.manual_seed(3647)\n",
    "\n",
    "# The token `<|padding|>` is used to mask the padding tokens.\n",
    "# Masking means the model will ignore these tokens during training.\n",
    "# In other words, the loss will not be calculated for these tokens.\n",
    "padding_token = tokenizer.special_tokens[\"<|padding|>\"]\n",
    "\n",
    "\n",
    "def apply_padding_to_data(data: list[list[int]], block_size: int, padding_token: int) -> torch.Tensor:\n",
    "    tensors = []\n",
    "    for i in range(len(data)):\n",
    "        tensor = torch.tensor(data[i])\n",
    "        padded_tensor = torch.nn.functional.pad(\n",
    "            input=tensor,\n",
    "            # for right padding:\n",
    "            pad=(0, block_size - len(tensor)),\n",
    "            # pad=(block_size - len(tensor), 0),\n",
    "            value=padding_token\n",
    "        )\n",
    "        tensors.append(padded_tensor)\n",
    "\n",
    "    return torch.stack(tensors)\n",
    "\n",
    "\n",
    "train_data_tensor = apply_padding_to_data(\n",
    "    data=combined_train_data,\n",
    "    block_size=block_size,\n",
    "    padding_token=padding_token\n",
    ")\n",
    "val_data_tensor = apply_padding_to_data(\n",
    "    data=combined_val_data,\n",
    "    block_size=block_size,\n",
    "    padding_token=padding_token\n",
    ")\n",
    "\n",
    "train_data_tensor.shape, val_data_tensor.shape"
   ]
  },
  {
   "cell_type": "code",
   "execution_count": 12,
   "metadata": {},
   "outputs": [
    {
     "data": {
      "text/plain": [
       "tensor([ 289,  117,  327,  111,  119,   46,   10,  767,  101,  100,   32,   97,\n",
       "          32,  102,  265,  295,  116,  307,  104,  105,  108,  101,   32,  100,\n",
       "         314,  110,  107,   32,  322,   97,  259,   46,   32,   71,  117,  101,\n",
       "         318,   32,   73,   39,  109,   32,  103,  111,  271,  258,  111,   32,\n",
       "          80,  289,  117,  327,  111,  119,   46,   10,  767,  101,  100,   32,\n",
       "          97,   32,  102,  265,  295,  116,  307,  104,  105,  108,  101,   32,\n",
       "         100,  314,  110,  107,   32,  322,   97,  259,   46,   32,   71,  117,\n",
       "         101,  318,   32,   73,   39,  109,   32,  103,  111,  271,  258,  111,\n",
       "          32,   80,  289,  117,  327,  111,  119,   46,   10,   84,  293,  108,\n",
       "          32,  109,  101,  307,  104,  121,   32,   73,   32,  106,  117,  291,\n",
       "          32,  111,  114,  100,  289,  101,  100,   32,   54,  258,   97,  388,\n",
       "         115,   32,  260,  100,   32,   97,  258,   97,  116,  365,  111, 1026,\n",
       "        1024,   72,  293,  299,   87,  111,  114,  108,  100, 1025,   72,  353,\n",
       "         101,   32,  294,   32,   99,  282,  115,  105,  100,  289,  101,  100,\n",
       "          32,  291,   97,  121,  271,   32,  291,  105,  384,   32,  302,  114,\n",
       "          32,   50,   52,   32,  104,  266,  114,  115,   10,   72,  353,  101,\n",
       "          32,  294,   32,   99,  282,  115,  105,  100,  289,  101,  100,   32,\n",
       "         291,   97,  121,  271,   32,  291,  105,  384,   32,  302,  114,   32,\n",
       "          50,   52,   32,  104,  266,  114,  115,   10,  644,   32,  372,  101,\n",
       "          32,  294,  334,  121,  271,  258,  111,   32,  115,  112,  310,  100,\n",
       "         314,  110,   32,   97,   32,  109,  105,  100,  339,  101,   32,   99,\n",
       "         114,  298,  298, 1026])"
      ]
     },
     "execution_count": 12,
     "metadata": {},
     "output_type": "execute_result"
    }
   ],
   "source": [
    "train_data_tensor[0]"
   ]
  },
  {
   "cell_type": "code",
   "execution_count": 13,
   "metadata": {},
   "outputs": [
    {
     "data": {
      "text/plain": [
       "tensor([ 114,  101,   32,  294,   32,   97,  384,  289,  335,   99,  258,  111,\n",
       "         327,  111,  114,  109,   97,  108,   32,  100,  101,   99,  298,  105,\n",
       "         282,  115,   32,  111,  114,  307,  274,  116,   10,  315,  114,  258,\n",
       "         392,  116,  115,   32,  335,  118,  101,   32,  109,  101,   32,  104,\n",
       "         105,  295,   32,   98,  299,  111,  100,   32,  112,  114,  101,  318,\n",
       "         375,  101,   10,  315,  226,  128,  153,  114,  101,   32,  305,  101,\n",
       "          32,  282,  101,   32,   98,   97,  100,   32,  105,  100,  292,   32,\n",
       "          97,  119,   97,  121,   32,  102,  367,   32,   97,   32,   78,  101,\n",
       "         116,  102,  265,  120,   32,  344,   99, 1026, 1024,   65,  121,  109,\n",
       "         101,  293,   32,   86,  289,  106,  310, 1025,   68,  111,   32,  294,\n",
       "         268,  259,  107,   32,  105,  116,   39,  115,   32,  105,  384,  101,\n",
       "         103,   97,  108,  258,  111,   32,  115,  108,  310,  112,   32,  282,\n",
       "          32,   97,   32,   98,  292,  313,   32,  259,   32,   83,  112,   97,\n",
       "         259,   63,   10,  767,  101,  100,   32,   97,   32,  102,  265,  295,\n",
       "         116,  307,  104,  105,  108,  101,   32,  100,  314,  110,  107,   32,\n",
       "         322,   97,  259,   46,   32,   71,  117,  101,  318,   32,   73,   39,\n",
       "         109,   32,  103,  111,  271,  258,  111,   32,   80,  289,  117,  327,\n",
       "         111,  119,   46,   10,   84,  114,  105,  101,  100,   32,  121,  111,\n",
       "         103,   97,  268,  298,   32,  109,  111,  114,  110,  271,   44,   32,\n",
       "         112,  117,  384,  101,  100,   32,   51,   32,  109,  117,  115,   99,\n",
       "         108,  101,  115,   32,  260,  100,   32,  109,  121,   32,  112,  114,\n",
       "         105,  100,  101, 1026])"
      ]
     },
     "execution_count": 13,
     "metadata": {},
     "output_type": "execute_result"
    }
   ],
   "source": [
    "val_data_tensor[0]"
   ]
  },
  {
   "cell_type": "markdown",
   "metadata": {},
   "source": [
    "### 5. Creat the data loaders"
   ]
  },
  {
   "cell_type": "code",
   "execution_count": 14,
   "metadata": {},
   "outputs": [
    {
     "data": {
      "text/plain": [
       "torch.Size([4308, 256])"
      ]
     },
     "execution_count": 14,
     "metadata": {},
     "output_type": "execute_result"
    }
   ],
   "source": [
    "train_data_tensor.shape"
   ]
  },
  {
   "cell_type": "code",
   "execution_count": 15,
   "metadata": {},
   "outputs": [],
   "source": [
    "from typing import Tuple\n",
    "from torch.utils.data import Dataset, DataLoader\n",
    "\n",
    "\n",
    "class FineTuningDataset(Dataset):\n",
    "    def __init__(self, data: torch.Tensor, device: torch.device, padding_token: int):\n",
    "        self.data = data  # shape: (num_samples, block_size)\n",
    "        self.device = device\n",
    "        self.padding_token = padding_token\n",
    "\n",
    "    def __len__(self) -> int:\n",
    "        return len(self.data)\n",
    "\n",
    "    def __getitem__(self, index: int) -> Tuple[torch.Tensor, torch.Tensor]:\n",
    "        sample = self.data[index]\n",
    "        x = sample.to(self.device)\n",
    "        y = sample[1:].to(self.device)\n",
    "        padding_tensor = torch.tensor([self.padding_token], device=self.device)\n",
    "        y = torch.cat((y, padding_tensor))\n",
    "        return x, y\n",
    "\n",
    "\n",
    "batch_size = 64\n",
    "device = torch.device(\"cuda\" if torch.cuda.is_available() else \"cpu\")\n",
    "\n",
    "train_dataset = FineTuningDataset(\n",
    "    data=train_data_tensor,\n",
    "    device=device,\n",
    "    padding_token=padding_token\n",
    ")\n",
    "train_loader = DataLoader(\n",
    "    dataset=train_dataset,\n",
    "    batch_size=batch_size,\n",
    "    shuffle=True\n",
    ")\n",
    "\n",
    "val_dataset = FineTuningDataset(\n",
    "    data=val_data_tensor,\n",
    "    device=device,\n",
    "    padding_token=padding_token\n",
    ")\n",
    "val_loader = DataLoader(\n",
    "    dataset=val_dataset,\n",
    "    batch_size=batch_size,\n",
    "    shuffle=False\n",
    ")"
   ]
  },
  {
   "cell_type": "code",
   "execution_count": 16,
   "metadata": {},
   "outputs": [
    {
     "data": {
      "text/plain": [
       "(torch.Size([64, 256]), torch.Size([64, 256]))"
      ]
     },
     "execution_count": 16,
     "metadata": {},
     "output_type": "execute_result"
    }
   ],
   "source": [
    "x, y = next(iter(train_loader))\n",
    "x.shape, y.shape"
   ]
  },
  {
   "cell_type": "markdown",
   "metadata": {},
   "source": [
    "## Fine-tuning with LoRA"
   ]
  },
  {
   "cell_type": "markdown",
   "metadata": {},
   "source": [
    "### 1. Load the saved checkpoint"
   ]
  },
  {
   "cell_type": "code",
   "execution_count": 17,
   "metadata": {},
   "outputs": [
    {
     "name": "stdout",
     "output_type": "stream",
     "text": [
      "13.795338 M parameters\n"
     ]
    }
   ],
   "source": [
    "from transformer.model import GPTLanguageModel\n",
    "\n",
    "block_size = 256\n",
    "n_embd = 512\n",
    "n_head = 8\n",
    "n_layer = 4\n",
    "dropout = 0.2\n",
    "batch_size = 64\n",
    "vocab_size = get_vocab_size(tokenizer)\n",
    "\n",
    "model = GPTLanguageModel(\n",
    "    vocab_size=vocab_size,\n",
    "    block_size=block_size,\n",
    "    n_embd=n_embd,\n",
    "    n_head=n_head,\n",
    "    n_layer=n_layer,\n",
    "    dropout=dropout,\n",
    "    device=device,\n",
    "    ignore_index=tokenizer.special_tokens[\"<|padding|>\"],\n",
    ").to(device)\n",
    "model = torch.compile(model)\n",
    "\n",
    "print(sum(p.numel() for p in model.parameters())/1e6, 'M parameters')"
   ]
  },
  {
   "cell_type": "code",
   "execution_count": 18,
   "metadata": {},
   "outputs": [
    {
     "data": {
      "text/plain": [
       "<All keys matched successfully>"
      ]
     },
     "execution_count": 18,
     "metadata": {},
     "output_type": "execute_result"
    }
   ],
   "source": [
    "checkpoint_path = \"../output/pre_training/run_1/checkpoint_0.pth\"\n",
    "checkpoint = torch.load(\n",
    "    checkpoint_path, weights_only=True, map_location=device)\n",
    "model_state_dict = checkpoint[\"model_state_dict\"]\n",
    "model.load_state_dict(model_state_dict)"
   ]
  },
  {
   "cell_type": "markdown",
   "metadata": {},
   "source": [
    "### 2. Add LoRA layers"
   ]
  },
  {
   "cell_type": "code",
   "execution_count": 21,
   "metadata": {},
   "outputs": [
    {
     "name": "stdout",
     "output_type": "stream",
     "text": [
      "All parameters: 14.12M | Trainable parameters: 0.33M | Trainable %: 2.31%\n"
     ]
    }
   ],
   "source": [
    "from transformer.lora import get_lora_model, print_trainable_parameters\n",
    "\n",
    "lora_model = get_lora_model(\n",
    "    model=model,\n",
    "    lora_config={\n",
    "        \"rank\": 4,\n",
    "        \"alpha\": 8,\n",
    "    },\n",
    "    device=device,\n",
    ")\n",
    "print_trainable_parameters(lora_model)"
   ]
  },
  {
   "cell_type": "markdown",
   "metadata": {},
   "source": [
    "Generate from the model to make sure that the weights were loaded correctly."
   ]
  },
  {
   "cell_type": "code",
   "execution_count": null,
   "metadata": {},
   "outputs": [],
   "source": [
    "input_tokens = tokenizer.encode(\"Salam labas \", allowed_special=\"all\")\n",
    "input_tokens = torch.tensor(\n",
    "    input_tokens, dtype=torch.long).unsqueeze(0).to(device)\n",
    "\n",
    "model.eval()\n",
    "with torch.no_grad():\n",
    "    output = model.generate(input_tokens=input_tokens, max_new_tokens=100)\n",
    "\n",
    "print(tokenizer.decode(output[0].tolist()))"
   ]
  },
  {
   "cell_type": "markdown",
   "metadata": {},
   "source": [
    "### 3. Estimate loss"
   ]
  },
  {
   "cell_type": "code",
   "execution_count": 22,
   "metadata": {},
   "outputs": [],
   "source": [
    "from typing import Dict\n",
    "\n",
    "\n",
    "@torch.no_grad()\n",
    "def estimate_loss(\n",
    "    model: torch.nn.Module,\n",
    "    train_loader: DataLoader,\n",
    "    val_loader: DataLoader,\n",
    ") -> Dict[str, float]:\n",
    "    output = {}\n",
    "    model.eval()\n",
    "\n",
    "    for split, loader in [('train', train_loader), ('val', val_loader)]:\n",
    "        losses = []\n",
    "        for x, y in loader:\n",
    "            with torch.no_grad():\n",
    "                _, loss = model(x, y)\n",
    "            losses.append(loss.item())\n",
    "        output[split] = sum(losses) / len(losses)\n",
    "\n",
    "    model.train()\n",
    "    return output"
   ]
  },
  {
   "cell_type": "markdown",
   "metadata": {},
   "source": [
    "### 4. Save checkpoints"
   ]
  },
  {
   "cell_type": "code",
   "execution_count": 23,
   "metadata": {},
   "outputs": [],
   "source": [
    "def save_checkpoint(\n",
    "    model: GPTLanguageModel,\n",
    "    optimizer: torch.optim.Optimizer,\n",
    "    epoch: int,\n",
    "    loss: float,\n",
    "    file_path: str = \"checkpoint.pth\"\n",
    ") -> None:\n",
    "    checkpoint = {\n",
    "        'epoch': epoch,\n",
    "        'model_state_dict': model.state_dict(),\n",
    "        'optimizer_state_dict': optimizer.state_dict(),\n",
    "        'loss': loss\n",
    "    }\n",
    "    torch.save(checkpoint, file_path)"
   ]
  },
  {
   "cell_type": "markdown",
   "metadata": {},
   "source": [
    "### 5. Training loop"
   ]
  },
  {
   "cell_type": "code",
   "execution_count": 25,
   "metadata": {},
   "outputs": [
    {
     "name": "stdout",
     "output_type": "stream",
     "text": [
      "iteration 0 / step 0: train loss 23.0446, val loss 23.0276\n",
      "iteration 0 / step 10: train loss 6.2587, val loss 6.2957\n",
      "iteration 0 / step 20: train loss 4.1911, val loss 4.3019\n",
      "iteration 0 / step 30: train loss 3.9745, val loss 3.9653\n",
      "iteration 0 / step 40: train loss 3.8982, val loss 3.8639\n",
      "iteration 0 / step 50: train loss 3.8804, val loss 3.8470\n",
      "iteration 0 / step 60: train loss 3.8462, val loss 3.8344\n",
      "iteration 0 / step 67: train loss 3.8359, val loss 3.8357\n",
      "iteration 1 / step 0: train loss 3.8396, val loss 3.8412\n",
      "iteration 1 / step 10: train loss 3.8195, val loss 3.8346\n",
      "iteration 1 / step 20: train loss 3.8030, val loss 3.8344\n",
      "iteration 1 / step 30: train loss 3.7778, val loss 3.8345\n",
      "iteration 1 / step 40: train loss 3.7646, val loss 3.8529\n",
      "iteration 1 / step 50: train loss 3.7402, val loss 3.8643\n",
      "iteration 1 / step 60: train loss 3.7174, val loss 3.8764\n",
      "iteration 1 / step 67: train loss 3.7008, val loss 3.8707\n",
      "iteration 2 / step 0: train loss 3.7038, val loss 3.8747\n",
      "iteration 2 / step 10: train loss 3.6586, val loss 3.8510\n",
      "iteration 2 / step 20: train loss 3.6120, val loss 3.8443\n",
      "iteration 2 / step 30: train loss 3.5732, val loss 3.8546\n",
      "iteration 2 / step 40: train loss 3.5448, val loss 3.8651\n",
      "iteration 2 / step 50: train loss 3.5167, val loss 3.8716\n",
      "iteration 2 / step 60: train loss 3.5028, val loss 3.8702\n",
      "iteration 2 / step 67: train loss 3.4912, val loss 3.8698\n",
      "iteration 3 / step 0: train loss 3.4905, val loss 3.8710\n",
      "iteration 3 / step 10: train loss 3.4801, val loss 3.8762\n",
      "iteration 3 / step 20: train loss 3.4714, val loss 3.8923\n",
      "iteration 3 / step 30: train loss 3.4664, val loss 3.8962\n",
      "iteration 3 / step 40: train loss 3.4488, val loss 3.8771\n",
      "iteration 3 / step 50: train loss 3.4388, val loss 3.8741\n",
      "iteration 3 / step 60: train loss 3.4317, val loss 3.8784\n",
      "iteration 3 / step 67: train loss 3.4261, val loss 3.8827\n",
      "iteration 4 / step 0: train loss 3.4259, val loss 3.8853\n",
      "iteration 4 / step 10: train loss 3.4167, val loss 3.8963\n",
      "iteration 4 / step 20: train loss 3.4003, val loss 3.8892\n",
      "iteration 4 / step 30: train loss 3.3952, val loss 3.8847\n",
      "iteration 4 / step 40: train loss 3.3778, val loss 3.9106\n",
      "iteration 4 / step 50: train loss 3.3650, val loss 3.9235\n",
      "iteration 4 / step 60: train loss 3.3720, val loss 3.9424\n",
      "iteration 4 / step 67: train loss 3.3464, val loss 3.9102\n",
      "iteration 5 / step 0: train loss 3.4014, val loss 3.9758\n",
      "iteration 5 / step 10: train loss 3.3523, val loss 3.9713\n",
      "iteration 5 / step 20: train loss 3.3389, val loss 3.9702\n",
      "iteration 5 / step 30: train loss 3.3135, val loss 3.9492\n",
      "iteration 5 / step 40: train loss 3.3017, val loss 3.9707\n",
      "iteration 5 / step 50: train loss 3.2846, val loss 3.9851\n",
      "iteration 5 / step 60: train loss 3.2671, val loss 3.9979\n",
      "iteration 5 / step 67: train loss 3.2540, val loss 3.9939\n",
      "iteration 6 / step 0: train loss 3.2538, val loss 3.9901\n",
      "iteration 6 / step 10: train loss 3.2313, val loss 4.0054\n",
      "iteration 6 / step 20: train loss 3.2159, val loss 4.0187\n",
      "iteration 6 / step 30: train loss 3.2050, val loss 4.0324\n",
      "iteration 6 / step 40: train loss 3.1653, val loss 4.0229\n",
      "iteration 6 / step 50: train loss 3.1547, val loss 4.0415\n",
      "iteration 6 / step 60: train loss 3.1871, val loss 4.0801\n",
      "iteration 6 / step 67: train loss 3.1388, val loss 4.0272\n",
      "iteration 7 / step 0: train loss 3.1071, val loss 3.9856\n",
      "iteration 7 / step 10: train loss 3.0834, val loss 4.0302\n",
      "iteration 7 / step 20: train loss 3.0548, val loss 4.0314\n",
      "iteration 7 / step 30: train loss 3.0191, val loss 4.0136\n",
      "iteration 7 / step 40: train loss 2.9921, val loss 4.0226\n",
      "iteration 7 / step 50: train loss 2.9737, val loss 4.0612\n",
      "iteration 7 / step 60: train loss 2.9295, val loss 4.0865\n",
      "iteration 7 / step 67: train loss 2.9083, val loss 4.1295\n",
      "iteration 8 / step 0: train loss 2.9045, val loss 4.1300\n",
      "iteration 8 / step 10: train loss 2.8748, val loss 4.1277\n",
      "iteration 8 / step 20: train loss 2.8549, val loss 4.1113\n",
      "iteration 8 / step 30: train loss 2.7945, val loss 4.1089\n",
      "iteration 8 / step 40: train loss 2.7619, val loss 4.1055\n",
      "iteration 8 / step 50: train loss 2.7240, val loss 4.1268\n",
      "iteration 8 / step 60: train loss 2.6832, val loss 4.1872\n",
      "iteration 8 / step 67: train loss 2.6857, val loss 4.0889\n",
      "iteration 9 / step 0: train loss 2.6696, val loss 4.1253\n",
      "iteration 9 / step 10: train loss 2.6252, val loss 4.1374\n",
      "iteration 9 / step 20: train loss 2.5877, val loss 4.1903\n",
      "iteration 9 / step 30: train loss 2.5738, val loss 4.1908\n",
      "iteration 9 / step 40: train loss 2.5173, val loss 4.2148\n",
      "iteration 9 / step 50: train loss 2.4862, val loss 4.2005\n",
      "iteration 9 / step 60: train loss 2.4636, val loss 4.1906\n",
      "iteration 9 / step 67: train loss 2.4706, val loss 4.2612\n"
     ]
    }
   ],
   "source": [
    "max_iters = 10\n",
    "eval_interval = 10\n",
    "learning_rate = 1e-4\n",
    "\n",
    "optimizer = torch.optim.AdamW(lora_model.parameters(), lr=learning_rate)\n",
    "train_losses = []\n",
    "val_losses = []\n",
    "\n",
    "for iteration in range(max_iters):\n",
    "    for batch_idx, (x_batch, y_batch) in enumerate(train_loader):\n",
    "        # Evaluation\n",
    "        if batch_idx % eval_interval == 0 or batch_idx == len(train_loader) - 1:\n",
    "            losses = estimate_loss(\n",
    "                model=lora_model,\n",
    "                train_loader=train_loader,\n",
    "                val_loader=val_loader,\n",
    "            )\n",
    "            train_losses.append(losses['train'])\n",
    "            val_losses.append(losses['val'])\n",
    "\n",
    "            print(\n",
    "                f\"iteration {iteration} / step {batch_idx}: \"\n",
    "                f\"train loss {losses['train']:.4f}, \"\n",
    "                f\"val loss {losses['val']:.4f}\"\n",
    "            )\n",
    "\n",
    "        # Training step\n",
    "        logits, loss = lora_model(x_batch, y_batch)\n",
    "        optimizer.zero_grad(set_to_none=True)\n",
    "        loss.backward()\n",
    "        optimizer.step()\n",
    "\n",
    "    # Save checkpoint\n",
    "    save_checkpoint(\n",
    "        model=lora_model,\n",
    "        optimizer=optimizer,\n",
    "        epoch=iteration,\n",
    "        loss=loss.item(),\n",
    "        file_path=f\"../output/fine_tuning/adapters/run_1/checkpoint_{iteration}.pth\"\n",
    "    )"
   ]
  },
  {
   "cell_type": "code",
   "execution_count": 26,
   "metadata": {},
   "outputs": [
    {
     "data": {
      "image/png": "[encoded data removed]",
      "text/plain": [
       "<Figure size 1000x500 with 1 Axes>"
      ]
     },
     "metadata": {},
     "output_type": "display_data"
    }
   ],
   "source": [
    "import matplotlib.pyplot as plt\n",
    "\n",
    "plt.figure(figsize=(10, 5))\n",
    "plt.plot(train_losses, label=\"Train Loss\")\n",
    "plt.plot(val_losses, label=\"Validation Loss\")\n",
    "plt.xlabel(\"Evaluation Step\")\n",
    "plt.ylabel(\"Loss\")\n",
    "plt.title(\"Training and Validation Loss Over Time\")\n",
    "plt.legend()\n",
    "plt.grid()\n",
    "plt.show()"
   ]
  },
  {
   "cell_type": "code",
   "execution_count": null,
   "metadata": {},
   "outputs": [
    {
     "ename": "NameError",
     "evalue": "name 'torch' is not defined",
     "output_type": "error",
     "traceback": [
      "\u001b[0;31m---------------------------------------------------------------------------\u001b[0m",
      "\u001b[0;31mNameError\u001b[0m                                 Traceback (most recent call last)",
      "Cell \u001b[0;32mIn[1], line 1\u001b[0m\n\u001b[0;32m----> 1\u001b[0m \u001b[38;5;28;01mdef\u001b[39;00m \u001b[38;5;21mget_input_tokens\u001b[39m(message: \u001b[38;5;28mstr\u001b[39m) \u001b[38;5;241m-\u001b[39m\u001b[38;5;241m>\u001b[39m \u001b[43mtorch\u001b[49m\u001b[38;5;241m.\u001b[39mTensor:\n\u001b[1;32m      2\u001b[0m     input_tokens \u001b[38;5;241m=\u001b[39m tokenizer\u001b[38;5;241m.\u001b[39mencode(\n\u001b[1;32m      3\u001b[0m         \u001b[38;5;124mf\u001b[39m\u001b[38;5;124m\"\u001b[39m\u001b[38;5;124m<|startoftext|>\u001b[39m\u001b[38;5;132;01m{\u001b[39;00mmessage\u001b[38;5;132;01m}\u001b[39;00m\u001b[38;5;124m<|separator|>\u001b[39m\u001b[38;5;124m\"\u001b[39m, allowed_special\u001b[38;5;241m=\u001b[39m\u001b[38;5;124m\"\u001b[39m\u001b[38;5;124mall\u001b[39m\u001b[38;5;124m\"\u001b[39m)\n\u001b[1;32m      4\u001b[0m     input_tokens \u001b[38;5;241m=\u001b[39m torch\u001b[38;5;241m.\u001b[39mtensor(\n\u001b[1;32m      5\u001b[0m         input_tokens, dtype\u001b[38;5;241m=\u001b[39mtorch\u001b[38;5;241m.\u001b[39mlong)\u001b[38;5;241m.\u001b[39munsqueeze(\u001b[38;5;241m0\u001b[39m)\u001b[38;5;241m.\u001b[39mto(device)\n",
      "\u001b[0;31mNameError\u001b[0m: name 'torch' is not defined"
     ]
    }
   ],
   "source": [
    "def get_input_tokens(message: str) -> torch.Tensor:\n",
    "    input_tokens = tokenizer.encode(\n",
    "        f\"<|startoftext|>{message}<|separator|>\", allowed_special=\"all\")\n",
    "    input_tokens = torch.tensor(\n",
    "        input_tokens, dtype=torch.long).unsqueeze(0).to(device)\n",
    "    return input_tokens\n",
    "\n",
    "\n",
    "user_message = \"Hi\"\n",
    "input_tokens = get_input_tokens(message=user_message)\n",
    "model_answer = \"\"\n",
    "\n",
    "lora_model.eval()\n",
    "while True:\n",
    "    output_tokens = lora_model.generate(\n",
    "        input_tokens=input_tokens, max_new_tokens=1)\n",
    "    last_generated_token = output_tokens[0, -1].item()\n",
    "    if last_generated_token == tokenizer.special_tokens[\"<|endoftext|>\"]:\n",
    "        break\n",
    "\n",
    "    input_tokens = torch.cat((input_tokens, output_tokens[:, -1:]), dim=1)\n",
    "    model_answer += tokenizer.decode([last_generated_token])\n",
    "\n",
    "    if len(output_tokens[0]) > block_size:\n",
    "        input_tokens = input_tokens[:, -block_size:]\n",
    "\n",
    "print(f\"You: {user_message}\")\n",
    "print(f\"Assistant: {model_answer}\")"
   ]
  }
 ],
 "metadata": {
  "kernelspec": {
   "display_name": "vincent",
   "language": "python",
   "name": "python3"
  },
  "language_info": {
   "codemirror_mode": {
    "name": "ipython",
    "version": 3
   },
   "file_extension": ".py",
   "mimetype": "text/x-python",
   "name": "python",
   "nbconvert_exporter": "python",
   "pygments_lexer": "ipython3",
   "version": "3.10.8"
  }
 },
 "nbformat": 4,
 "nbformat_minor": 2
}
